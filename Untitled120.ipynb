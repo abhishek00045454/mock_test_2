{
  "nbformat": 4,
  "nbformat_minor": 0,
  "metadata": {
    "colab": {
      "provenance": []
    },
    "kernelspec": {
      "name": "python3",
      "display_name": "Python 3"
    },
    "language_info": {
      "name": "python"
    }
  },
  "cells": [
    {
      "cell_type": "code",
      "execution_count": 1,
      "metadata": {
        "colab": {
          "base_uri": "https://localhost:8080/"
        },
        "id": "u5oHFx7FLFM5",
        "outputId": "39882811-a923-4186-ef10-835b1f153bb8"
      },
      "outputs": [
        {
          "output_type": "stream",
          "name": "stdout",
          "text": [
            "2\n",
            "2\n"
          ]
        }
      ],
      "source": [
        "def mySqrt(x):\n",
        "    if x == 0:\n",
        "        return 0\n",
        "\n",
        "    left = 1\n",
        "    right = x\n",
        "\n",
        "    while left <= right:\n",
        "        mid = left + (right - left) // 2\n",
        "        if mid * mid == x:\n",
        "            return mid\n",
        "        elif mid * mid < x:\n",
        "            left = mid + 1\n",
        "        else:\n",
        "            right = mid - 1\n",
        "\n",
        "    return right\n",
        "\n",
        "# Test cases\n",
        "print(mySqrt(4))  # Output: 2\n",
        "print(mySqrt(8))  # Output: 2\n"
      ]
    },
    {
      "cell_type": "code",
      "source": [],
      "metadata": {
        "id": "38owCIbzLQKH"
      },
      "execution_count": null,
      "outputs": []
    }
  ]
}