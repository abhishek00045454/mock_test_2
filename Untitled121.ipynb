{
  "nbformat": 4,
  "nbformat_minor": 0,
  "metadata": {
    "colab": {
      "provenance": []
    },
    "kernelspec": {
      "name": "python3",
      "display_name": "Python 3"
    },
    "language_info": {
      "name": "python"
    }
  },
  "cells": [
    {
      "cell_type": "code",
      "execution_count": 2,
      "metadata": {
        "colab": {
          "base_uri": "https://localhost:8080/"
        },
        "id": "5TUbarEBL2Rs",
        "outputId": "e86e30f7-956a-4aa7-dfe8-4e370ae9d0ae"
      },
      "outputs": [
        {
          "output_type": "stream",
          "name": "stdout",
          "text": [
            "[8, 0, 7]\n",
            "[0]\n",
            "[1, 0, 0, 0, 9, 9, 9, 8]\n"
          ]
        }
      ],
      "source": [
        "class ListNode:\n",
        "    def __init__(self, val=0, next=None):\n",
        "        self.val = val\n",
        "        self.next = next\n",
        "\n",
        "\n",
        "def addTwoNumbers(l1, l2):\n",
        "    stack1 = []\n",
        "    stack2 = []\n",
        "\n",
        "    # Push digits of l1 to stack1\n",
        "    while l1:\n",
        "        stack1.append(l1.val)\n",
        "        l1 = l1.next\n",
        "\n",
        "    # Push digits of l2 to stack2\n",
        "    while l2:\n",
        "        stack2.append(l2.val)\n",
        "        l2 = l2.next\n",
        "\n",
        "    carry = 0\n",
        "    head = None\n",
        "\n",
        "    # Perform addition using stacks\n",
        "    while stack1 or stack2 or carry:\n",
        "        sum = carry\n",
        "\n",
        "        if stack1:\n",
        "            sum += stack1.pop()\n",
        "\n",
        "        if stack2:\n",
        "            sum += stack2.pop()\n",
        "\n",
        "        carry = sum // 10\n",
        "\n",
        "        # Create a new node with the current digit\n",
        "        node = ListNode(sum % 10)\n",
        "\n",
        "        # Append the new node to the head of the result\n",
        "        node.next = head\n",
        "        head = node\n",
        "\n",
        "    return head\n",
        "\n",
        "\n",
        "# Helper function to convert a list to a linked list\n",
        "def listToLinkedList(lst):\n",
        "    dummy = ListNode()\n",
        "    curr = dummy\n",
        "\n",
        "    for num in lst:\n",
        "        curr.next = ListNode(num)\n",
        "        curr = curr.next\n",
        "\n",
        "    return dummy.next\n",
        "\n",
        "\n",
        "# Helper function to convert a linked list to a list\n",
        "def linkedListToList(head):\n",
        "    lst = []\n",
        "\n",
        "    while head:\n",
        "        lst.append(head.val)\n",
        "        head = head.next\n",
        "\n",
        "    return lst\n",
        "\n",
        "\n",
        "# Test cases\n",
        "l1 = listToLinkedList([2, 4, 3])\n",
        "l2 = listToLinkedList([5, 6, 4])\n",
        "result = addTwoNumbers(l1, l2)\n",
        "print(linkedListToList(result))  # Output: [7, 0, 8]\n",
        "\n",
        "l1 = listToLinkedList([0])\n",
        "l2 = listToLinkedList([0])\n",
        "result = addTwoNumbers(l1, l2)\n",
        "print(linkedListToList(result))  # Output: [0]\n",
        "\n",
        "l1 = listToLinkedList([9, 9, 9, 9, 9, 9, 9])\n",
        "l2 = listToLinkedList([9, 9, 9, 9])\n",
        "result = addTwoNumbers(l1, l2)\n",
        "print(linkedListToList(result))  # Output: [8, 9, 9, 9, 0, 0, 0, 1]\n"
      ]
    },
    {
      "cell_type": "code",
      "source": [],
      "metadata": {
        "id": "rNo34NY9L295"
      },
      "execution_count": null,
      "outputs": []
    }
  ]
}